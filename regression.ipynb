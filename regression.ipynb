{
 "cells": [
  {
   "cell_type": "code",
   "execution_count": 8,
   "metadata": {},
   "outputs": [],
   "source": [
    "import pandas\n",
    "import numpy as np\n",
    "import random\n",
    "from sklearn.ensemble import RandomForestClassifier\n",
    "from sklearn.model_selection import train_test_split\n",
    "from sklearn.metrics import accuracy_score, f1_score, confusion_matrix, ConfusionMatrixDisplay, plot_confusion_matrix\n",
    "import seaborn as sns\n",
    "import matplotlib.pyplot as plt \n",
    "from pyspark.sql import SparkSession\n",
    "from pyspark.sql.functions import col,isnan, when, count"
   ]
  },
  {
   "cell_type": "code",
   "execution_count": 9,
   "metadata": {},
   "outputs": [],
   "source": [
    "spark = SparkSession.builder \\\n",
    "               .appName('TestMinadzb') \\\n",
    "               .getOrCreate()"
   ]
  },
  {
   "cell_type": "code",
   "execution_count": 10,
   "metadata": {},
   "outputs": [],
   "source": [
    "csv = spark.read.format(\"csv\").option(\"header\",\"true\").load(\"dataset.csv\")"
   ]
  },
  {
   "cell_type": "code",
   "execution_count": 11,
   "metadata": {},
   "outputs": [
    {
     "data": {
      "text/plain": [
       "Row(url='https://bj.lianjia.com/chengjiao/101084782030.html', id='101084782030', Lng='116.475489', Lat='40.01952', Cid='1111027376244', tradeTime='2016-08-09', DOM='1464', followers='106', totalPrice='415.0', price='31680', square='131.0', livingRoom='2', drawingRoom='1', kitchen='1', bathRoom='1', floor='�� 26', buildingType='1', constructionTime='2005', renovationCondition='3', buildingStructure='6', ladderRatio='0.217', elevator='1.0', fiveYearsProperty='0.0', subway='1.0', district='7', communityAverage='56021')"
      ]
     },
     "execution_count": 11,
     "metadata": {},
     "output_type": "execute_result"
    }
   ],
   "source": [
    "csv.head()"
   ]
  },
  {
   "cell_type": "code",
   "execution_count": 12,
   "metadata": {},
   "outputs": [
    {
     "name": "stderr",
     "output_type": "stream",
     "text": [
      "[Stage 10:=====================>                                    (3 + 5) / 8]\r"
     ]
    },
    {
     "name": "stdout",
     "output_type": "stream",
     "text": [
      "+---+---+---+---+---+---------+------+---------+----------+-----+------+----------+-----------+-------+--------+-----+------------+----------------+-------------------+-----------------+-----------+--------+-----------------+------+--------+----------------+\n",
      "|url| id|Lng|Lat|Cid|tradeTime|   DOM|followers|totalPrice|price|square|livingRoom|drawingRoom|kitchen|bathRoom|floor|buildingType|constructionTime|renovationCondition|buildingStructure|ladderRatio|elevator|fiveYearsProperty|subway|district|communityAverage|\n",
      "+---+---+---+---+---+---------+------+---------+----------+-----+------+----------+-----------+-------+--------+-----+------------+----------------+-------------------+-----------------+-----------+--------+-----------------+------+--------+----------------+\n",
      "|  0|  0|  0|  0|  0|        0|157977|        0|         0|    0|     0|         0|          0|      0|       0|    0|        2021|               0|                  0|                0|          0|      32|               32|    32|       0|             463|\n",
      "+---+---+---+---+---+---------+------+---------+----------+-----+------+----------+-----------+-------+--------+-----+------------+----------------+-------------------+-----------------+-----------+--------+-----------------+------+--------+----------------+\n",
      "\n"
     ]
    },
    {
     "name": "stderr",
     "output_type": "stream",
     "text": [
      "\r",
      "[Stage 10:==================================================>       (7 + 1) / 8]\r",
      "\r",
      "                                                                                \r"
     ]
    }
   ],
   "source": [
    "csv.select([count(when(isnan(c) | col(c).isNull(), c)).alias(c) for c in csv.columns]\n",
    "   ).show()"
   ]
  },
  {
   "cell_type": "code",
   "execution_count": 16,
   "metadata": {},
   "outputs": [],
   "source": [
    "csv = csv.drop('url')\n",
    "csv = csv.drop('cid')\n",
    "csv = csv.drop('id')\n",
    "csv = csv.drop('Lng')\n",
    "csv = csv.drop('Lat')\n",
    "csv = csv.drop('tradeTime')\n",
    "csv = csv.drop('floor') #(chinese characters)\n",
    "\n",
    "csv = csv.drop('DOM') #DOM\n",
    "csv = csv.drop('price') #price\n",
    "csv = csv.drop('buildingType') #buildingType\n",
    "csv = csv.drop('communityAverage') #communityAverage\n",
    "csv = csv.drop('constructionTime') #constructionTime (chinese characters)"
   ]
  },
  {
   "cell_type": "code",
   "execution_count": 17,
   "metadata": {},
   "outputs": [
    {
     "name": "stderr",
     "output_type": "stream",
     "text": [
      "\r",
      "[Stage 16:=======>                                                  (1 + 7) / 8]\r",
      "\r",
      "[Stage 16:===========================================>              (6 + 2) / 8]\r"
     ]
    },
    {
     "name": "stdout",
     "output_type": "stream",
     "text": [
      "+---------+----------+------+----------+-----------+-------+--------+-------------------+-----------------+-----------+--------+-----------------+------+--------+\n",
      "|followers|totalPrice|square|livingRoom|drawingRoom|kitchen|bathRoom|renovationCondition|buildingStructure|ladderRatio|elevator|fiveYearsProperty|subway|district|\n",
      "+---------+----------+------+----------+-----------+-------+--------+-------------------+-----------------+-----------+--------+-----------------+------+--------+\n",
      "|        0|         0|     0|         0|          0|      0|       0|                  0|                0|          0|       0|                0|     0|       0|\n",
      "+---------+----------+------+----------+-----------+-------+--------+-------------------+-----------------+-----------+--------+-----------------+------+--------+\n",
      "\n"
     ]
    },
    {
     "name": "stderr",
     "output_type": "stream",
     "text": [
      "\r",
      "                                                                                \r"
     ]
    }
   ],
   "source": [
    "csv.select([count(when(isnan(c) | col(c).isNull(), c)).alias(c) for c in csv.columns]\n",
    "   ).show()"
   ]
  },
  {
   "cell_type": "code",
   "execution_count": 18,
   "metadata": {},
   "outputs": [],
   "source": [
    "csv = csv.dropna()"
   ]
  },
  {
   "cell_type": "code",
   "execution_count": 19,
   "metadata": {},
   "outputs": [
    {
     "name": "stderr",
     "output_type": "stream",
     "text": [
      "\r",
      "[Stage 19:>                                                         (0 + 8) / 8]\r",
      "\r",
      "[Stage 19:=======>                                                  (1 + 7) / 8]\r"
     ]
    },
    {
     "name": "stdout",
     "output_type": "stream",
     "text": [
      "+---------+----------+------+----------+-----------+-------+--------+-------------------+-----------------+-----------+--------+-----------------+------+--------+\n",
      "|followers|totalPrice|square|livingRoom|drawingRoom|kitchen|bathRoom|renovationCondition|buildingStructure|ladderRatio|elevator|fiveYearsProperty|subway|district|\n",
      "+---------+----------+------+----------+-----------+-------+--------+-------------------+-----------------+-----------+--------+-----------------+------+--------+\n",
      "|        0|         0|     0|         0|          0|      0|       0|                  0|                0|          0|       0|                0|     0|       0|\n",
      "+---------+----------+------+----------+-----------+-------+--------+-------------------+-----------------+-----------+--------+-----------------+------+--------+\n",
      "\n"
     ]
    },
    {
     "name": "stderr",
     "output_type": "stream",
     "text": [
      "\r",
      "[Stage 19:=============================>                            (4 + 4) / 8]\r",
      "\r",
      "                                                                                \r"
     ]
    }
   ],
   "source": [
    "csv.select([count(when(isnan(c) | col(c).isNull(), c)).alias(c) for c in csv.columns]\n",
    "   ).show()"
   ]
  },
  {
   "cell_type": "code",
   "execution_count": 20,
   "metadata": {},
   "outputs": [
    {
     "name": "stderr",
     "output_type": "stream",
     "text": [
      "                                                                                \r"
     ]
    },
    {
     "data": {
      "text/plain": [
       "DataFrame[summary: string, followers: string, totalPrice: string, square: string, livingRoom: string, drawingRoom: string, kitchen: string, bathRoom: string, renovationCondition: string, buildingStructure: string, ladderRatio: string, elevator: string, fiveYearsProperty: string, subway: string, district: string]"
      ]
     },
     "execution_count": 20,
     "metadata": {},
     "output_type": "execute_result"
    }
   ],
   "source": [
    "csv.describe()"
   ]
  },
  {
   "cell_type": "code",
   "execution_count": 21,
   "metadata": {},
   "outputs": [],
   "source": [
    "from pyspark.sql.types import DoubleType, IntegerType\n",
    "\n",
    "to_int = ['followers', 'livingRoom', 'drawingRoom', 'kitchen', 'bathroom', 'renovationCondition', \n",
    "          'buildingStructure', 'subway', 'elevator', 'fiveYearsProperty', 'district']\n",
    "to_double = ['totalPrice', 'ladderRatio', 'square']\n",
    "\n",
    "for i in to_int:\n",
    "    csv = csv.withColumn(i,col(i).cast(IntegerType()))\n",
    "    \n",
    "for i in to_double:\n",
    "    csv = csv.withColumn(i,col(i).cast(DoubleType()))"
   ]
  },
  {
   "cell_type": "code",
   "execution_count": 22,
   "metadata": {},
   "outputs": [
    {
     "name": "stderr",
     "output_type": "stream",
     "text": [
      "/usr/lib/python3.9/site-packages/pyspark/sql/context.py:125: FutureWarning: Deprecated in 3.0.0. Use SparkSession.builder.getOrCreate() instead.\n",
      "  warnings.warn(\n"
     ]
    },
    {
     "data": {
      "text/plain": [
       "array([ 1.00000000e+00,  1.52645902e-01, -5.08269143e-02, -6.57602064e-03,\n",
       "       -5.39928849e-02,  9.10016082e-03, -3.42559962e-02,  2.41063004e-01,\n",
       "       -2.27037778e-02, -2.00301910e-04, -2.07609856e-02,  4.96317807e-02,\n",
       "        1.82434638e-02, -3.24042027e-02,  1.52645902e-01,  1.00000000e+00,\n",
       "        5.75844775e-01,  4.34312367e-01,  3.22706262e-01,  8.64251458e-02,\n",
       "        4.42432735e-01,  2.50776646e-01,  1.87961612e-01, -1.06371667e-03,\n",
       "        1.92344785e-01, -3.22497345e-03,  1.13183328e-01,  1.03828020e-02,\n",
       "       -5.08269143e-02,  5.75844775e-01,  1.00000000e+00,  7.22672921e-01,\n",
       "        6.16364488e-01,  9.11690035e-02,  7.38126734e-01,  3.14778680e-02,\n",
       "        1.56220097e-01, -2.42038252e-03,  1.68130705e-01, -1.81643868e-02,\n",
       "       -9.49727894e-02, -7.33993010e-03, -6.57602064e-03,  4.34312367e-01,\n",
       "        7.22672921e-01,  1.00000000e+00,  4.89589466e-01,  1.00451606e-01,\n",
       "        5.52904210e-01,  1.02750923e-02, -6.47624454e-02, -3.25542094e-03,\n",
       "       -7.82711917e-02,  4.57738456e-02, -6.28763322e-02,  1.23822731e-02,\n",
       "       -5.39928849e-02,  3.22706262e-01,  6.16364488e-01,  4.89589466e-01,\n",
       "        1.00000000e+00,  1.31910762e-01,  5.25765564e-01, -8.37440070e-03,\n",
       "        5.37629696e-02, -8.22427951e-04,  4.44828370e-02,  7.58933541e-03,\n",
       "       -9.36942298e-02,  1.02296968e-02,  9.10016082e-03,  8.64251458e-02,\n",
       "        9.11690035e-02,  1.00451606e-01,  1.31910762e-01,  1.00000000e+00,\n",
       "        1.17100940e-01, -5.36319883e-03, -5.50140942e-03,  1.33867526e-04,\n",
       "       -5.16697856e-03,  4.57787208e-02,  1.06174421e-02, -3.72259586e-02,\n",
       "       -3.42559962e-02,  4.42432735e-01,  7.38126734e-01,  5.52904210e-01,\n",
       "        5.25765564e-01,  1.17100940e-01,  1.00000000e+00,  2.55113538e-02,\n",
       "        1.14457225e-01, -1.07503948e-03,  1.14110953e-01, -3.15505989e-02,\n",
       "       -6.40033678e-02, -1.87085282e-03,  2.41063004e-01,  2.50776646e-01,\n",
       "        3.14778680e-02,  1.02750923e-02, -8.37440070e-03, -5.36319883e-03,\n",
       "        2.55113538e-02,  1.00000000e+00,  4.74299461e-02, -2.03442596e-04,\n",
       "        5.14384374e-02,  1.21005704e-01,  4.68217057e-03, -9.67410415e-03,\n",
       "       -2.27037778e-02,  1.87961612e-01,  1.56220097e-01, -6.47624454e-02,\n",
       "        5.37629696e-02, -5.50140942e-03,  1.14457225e-01,  4.74299461e-02,\n",
       "        1.00000000e+00,  2.03891023e-03,  8.12426453e-01, -1.22217915e-01,\n",
       "        9.22259344e-02, -1.00106881e-01, -2.00301910e-04, -1.06371667e-03,\n",
       "       -2.42038252e-03, -3.25542094e-03, -8.22427951e-04,  1.33867526e-04,\n",
       "       -1.07503948e-03, -2.03442596e-04,  2.03891023e-03,  1.00000000e+00,\n",
       "        2.14318852e-03, -7.62587619e-04, -3.07541290e-03,  2.10835346e-04,\n",
       "       -2.07609856e-02,  1.92344785e-01,  1.68130705e-01, -7.82711917e-02,\n",
       "        4.44828370e-02, -5.16697856e-03,  1.14110953e-01,  5.14384374e-02,\n",
       "        8.12426453e-01,  2.14318852e-03,  1.00000000e+00, -1.19514485e-01,\n",
       "        1.06369198e-01, -6.40900366e-02,  4.96317807e-02, -3.22497345e-03,\n",
       "       -1.81643868e-02,  4.57738456e-02,  7.58933541e-03,  4.57787208e-02,\n",
       "       -3.15505989e-02,  1.21005704e-01, -1.22217915e-01, -7.62587619e-04,\n",
       "       -1.19514485e-01,  1.00000000e+00,  6.11592401e-02,  1.19206106e-02,\n",
       "        1.82434638e-02,  1.13183328e-01, -9.49727894e-02, -6.28763322e-02,\n",
       "       -9.36942298e-02,  1.06174421e-02, -6.40033678e-02,  4.68217057e-03,\n",
       "        9.22259344e-02, -3.07541290e-03,  1.06369198e-01,  6.11592401e-02,\n",
       "        1.00000000e+00, -1.09812931e-01, -3.24042027e-02,  1.03828020e-02,\n",
       "       -7.33993010e-03,  1.23822731e-02,  1.02296968e-02, -3.72259586e-02,\n",
       "       -1.87085282e-03, -9.67410415e-03, -1.00106881e-01,  2.10835346e-04,\n",
       "       -6.40900366e-02,  1.19206106e-02, -1.09812931e-01,  1.00000000e+00])"
      ]
     },
     "execution_count": 22,
     "metadata": {},
     "output_type": "execute_result"
    }
   ],
   "source": [
    "from pyspark.ml.stat import Correlation\n",
    "from pyspark.ml.feature import VectorAssembler\n",
    "\n",
    "# convert to vector column first\n",
    "vector_col = \"corr_features\"\n",
    "assembler = VectorAssembler(inputCols=csv.columns, outputCol=vector_col)\n",
    "df_vector = assembler.transform(csv).select(vector_col)\n",
    "\n",
    "# get correlation matrix\n",
    "corr = Correlation.corr(df_vector, vector_col)\n",
    "corr.collect()[0][\"pearson({})\".format(vector_col)].values"
   ]
  },
  {
   "cell_type": "code",
   "execution_count": 15,
   "metadata": {},
   "outputs": [
    {
     "name": "stdout",
     "output_type": "stream",
     "text": [
      "+--------------------+----------+\n",
      "|            features|totalPrice|\n",
      "+--------------------+----------+\n",
      "|[106.0,2.0,1.0,1....|     415.0|\n",
      "|[126.0,2.0,2.0,1....|     575.0|\n",
      "|[48.0,3.0,2.0,1.0...|    1030.0|\n",
      "+--------------------+----------+\n",
      "only showing top 3 rows\n",
      "\n"
     ]
    }
   ],
   "source": [
    "from pyspark.ml.regression import LinearRegression\n",
    "from pyspark.ml.feature import VectorAssembler\n",
    "\n",
    "vectorAssembler = VectorAssembler(\n",
    "    inputCols = ['followers', 'livingRoom', 'drawingRoom', 'kitchen', 'bathroom', 'renovationCondition', \n",
    "          'buildingStructure', 'subway', 'elevator', 'fiveYearsProperty', 'district','ladderRatio', 'square'], \n",
    "    outputCol = 'features')\n",
    "v_df = vectorAssembler.transform(csv)\n",
    "v_df = v_df.select(['features', 'totalPrice'])\n",
    "v_df.show(3)"
   ]
  },
  {
   "cell_type": "code",
   "execution_count": 16,
   "metadata": {},
   "outputs": [],
   "source": [
    "splits = v_df.randomSplit([0.7, 0.3])\n",
    "train_df = splits[0]\n",
    "test_df = splits[1]"
   ]
  },
  {
   "cell_type": "code",
   "execution_count": 17,
   "metadata": {},
   "outputs": [
    {
     "name": "stdout",
     "output_type": "stream",
     "text": [
      "Coefficients: [0.8776305205712139,19.22917492535458,-13.111185888289869,68.67259918624228,15.101743751650634,34.36825926106769,8.035433449661156,73.83072581435457,12.70982521517611,-10.670378709685108,3.5598343547553193,0.0,3.2356492871272327]\n",
      "Intercept: -239.18233156854456\n"
     ]
    }
   ],
   "source": [
    "lr = LinearRegression(featuresCol = 'features', labelCol='totalPrice', maxIter=50, regParam=0.8, elasticNetParam=0.8)\n",
    "lr_model = lr.fit(train_df)"
   ]
  },
  {
   "cell_type": "code",
   "execution_count": 18,
   "metadata": {},
   "outputs": [
    {
     "name": "stdout",
     "output_type": "stream",
     "text": [
      "RMSE: 172.600798\n",
      "Accuracy: 0.441402\n"
     ]
    }
   ],
   "source": [
    "trainingSummary = lr_model.summary\n",
    "\n",
    "#differences between predicted values by the model and the actual values\n",
    "print(\"RMSE: %f\" % trainingSummary.rootMeanSquaredError)\n",
    "\n",
    "\n",
    "print(\"Accuracy: %f\" % trainingSummary.r2)"
   ]
  },
  {
   "cell_type": "code",
   "execution_count": 19,
   "metadata": {},
   "outputs": [
    {
     "name": "stdout",
     "output_type": "stream",
     "text": [
      "+-------+------------------+\n",
      "|summary|        totalPrice|\n",
      "+-------+------------------+\n",
      "|  count|            222699|\n",
      "|   mean|348.83457267432897|\n",
      "| stddev|230.93720343026686|\n",
      "|    min|               0.1|\n",
      "|    max|           18130.0|\n",
      "+-------+------------------+\n",
      "\n"
     ]
    }
   ],
   "source": [
    "train_df.describe().show()"
   ]
  },
  {
   "cell_type": "code",
   "execution_count": 20,
   "metadata": {},
   "outputs": [
    {
     "name": "stdout",
     "output_type": "stream",
     "text": [
      "+------------------+----------+--------------------+\n",
      "|        prediction|totalPrice|            features|\n",
      "+------------------+----------+--------------------+\n",
      "| 73.33620319551187|     106.0|(13,[0,1,5,6,10,1...|\n",
      "| 69.02104894596937|     226.0|(13,[0,1,5,6,10,1...|\n",
      "|-17.96783062008126|      38.0|(13,[1,5,6,7,10,1...|\n",
      "| 2.950928959693613|     355.0|(13,[1,5,6,7,10,1...|\n",
      "|48.769570598871155|     275.0|(13,[1,5,6,8,10,1...|\n",
      "+------------------+----------+--------------------+\n",
      "only showing top 5 rows\n",
      "\n",
      "R Squared (R2) on test data = 0.445636\n"
     ]
    }
   ],
   "source": [
    "lr_predictions = lr_model.transform(test_df)\n",
    "lr_predictions.select(\"prediction\",\"totalPrice\",\"features\").show(5)\n",
    "\n",
    "from pyspark.ml.evaluation import RegressionEvaluator\n",
    "lr_evaluator = RegressionEvaluator(predictionCol=\"prediction\", \\\n",
    "                 labelCol=\"totalPrice\",metricName=\"r2\")\n",
    "print(\"R Squared (R2) on test data = %g\" % lr_evaluator.evaluate(lr_predictions))"
   ]
  },
  {
   "cell_type": "code",
   "execution_count": 21,
   "metadata": {},
   "outputs": [
    {
     "name": "stdout",
     "output_type": "stream",
     "text": [
      "Root Mean Squared Error (RMSE) on test data = 171.556\n"
     ]
    }
   ],
   "source": [
    "test_result = lr_model.evaluate(test_df)\n",
    "print(\"Root Mean Squared Error (RMSE) on test data = %g\" % test_result.rootMeanSquaredError)"
   ]
  },
  {
   "cell_type": "code",
   "execution_count": 24,
   "metadata": {},
   "outputs": [],
   "source": [
    "from pyspark.ml.regression import RandomForestRegressor\n",
    "rfr = RandomForestRegressor(featuresCol = 'features', labelCol='totalPrice', numTrees=2, maxDepth=2)\n",
    "rfr_model = rfr.fit(train_df)"
   ]
  },
  {
   "cell_type": "code",
   "execution_count": 26,
   "metadata": {},
   "outputs": [
    {
     "name": "stdout",
     "output_type": "stream",
     "text": [
      "+-------+------------------+\n",
      "|summary|        totalPrice|\n",
      "+-------+------------------+\n",
      "|  count|            222699|\n",
      "|   mean|348.83457267432897|\n",
      "| stddev|230.93720343026686|\n",
      "|    min|               0.1|\n",
      "|    max|           18130.0|\n",
      "+-------+------------------+\n",
      "\n"
     ]
    }
   ],
   "source": [
    "train_df.describe().show()"
   ]
  },
  {
   "cell_type": "code",
   "execution_count": 29,
   "metadata": {},
   "outputs": [
    {
     "name": "stdout",
     "output_type": "stream",
     "text": [
      "+------------------+----------+--------------------+\n",
      "|        prediction|totalPrice|            features|\n",
      "+------------------+----------+--------------------+\n",
      "|252.41567916390704|     106.0|(13,[0,1,5,6,10,1...|\n",
      "|252.41567916390704|     226.0|(13,[0,1,5,6,10,1...|\n",
      "|252.41567916390704|      38.0|(13,[1,5,6,7,10,1...|\n",
      "|252.41567916390704|     355.0|(13,[1,5,6,7,10,1...|\n",
      "|252.41567916390704|     275.0|(13,[1,5,6,8,10,1...|\n",
      "|252.41567916390704|      18.5|[0.0,1.0,0.0,0.0,...|\n",
      "|252.41567916390704|      34.0|[0.0,1.0,0.0,0.0,...|\n",
      "|252.41567916390704|      35.5|[0.0,1.0,0.0,0.0,...|\n",
      "|252.41567916390704|      43.8|[0.0,1.0,0.0,0.0,...|\n",
      "|252.41567916390704|     243.0|[0.0,1.0,0.0,0.0,...|\n",
      "|252.41567916390704|      38.0|[0.0,1.0,0.0,0.0,...|\n",
      "|252.41567916390704|     137.0|[0.0,1.0,0.0,0.0,...|\n",
      "|252.41567916390704|     312.0|[0.0,1.0,0.0,0.0,...|\n",
      "|306.90358351754924|     453.0|[0.0,1.0,0.0,0.0,...|\n",
      "|252.41567916390704|      39.5|[0.0,1.0,0.0,0.0,...|\n",
      "+------------------+----------+--------------------+\n",
      "only showing top 15 rows\n",
      "\n",
      "R Squared (R2) on test data = 0.289841\n"
     ]
    }
   ],
   "source": [
    "rfr_predictions = rfr_model.transform(test_df)\n",
    "rfr_predictions.select(\"prediction\",\"totalPrice\",\"features\").show(15)\n",
    "\n",
    "rfr_evaluator = RegressionEvaluator(predictionCol=\"prediction\", \\\n",
    "                 labelCol=\"totalPrice\",metricName=\"r2\")\n",
    "\n",
    "print(\"R Squared (R2) on test data = %g\" % rfr_evaluator.evaluate(rfr_predictions))"
   ]
  },
  {
   "cell_type": "code",
   "execution_count": 31,
   "metadata": {},
   "outputs": [
    {
     "name": "stdout",
     "output_type": "stream",
     "text": [
      "Root Mean Squared Error (RMSE) on test data = 194.172\n"
     ]
    }
   ],
   "source": [
    "evaluator = RegressionEvaluator(\n",
    "    labelCol=\"totalPrice\", predictionCol=\"prediction\", metricName=\"rmse\")\n",
    "rmse = evaluator.evaluate(rfr_predictions)\n",
    "print(\"Root Mean Squared Error (RMSE) on test data = %g\" % rmse)"
   ]
  },
  {
   "cell_type": "code",
   "execution_count": null,
   "metadata": {},
   "outputs": [],
   "source": []
  }
 ],
 "metadata": {
  "kernelspec": {
   "display_name": "Python 3 (ipykernel)",
   "language": "python",
   "name": "python3"
  },
  "language_info": {
   "codemirror_mode": {
    "name": "ipython",
    "version": 3
   },
   "file_extension": ".py",
   "mimetype": "text/x-python",
   "name": "python",
   "nbconvert_exporter": "python",
   "pygments_lexer": "ipython3",
   "version": "3.10.5"
  }
 },
 "nbformat": 4,
 "nbformat_minor": 2
}
