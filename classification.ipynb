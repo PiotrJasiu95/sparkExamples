{
 "cells": [
  {
   "cell_type": "code",
   "execution_count": null,
   "metadata": {},
   "outputs": [],
   "source": []
  },
  {
   "cell_type": "code",
   "execution_count": 27,
   "metadata": {},
   "outputs": [],
   "source": [
    "import pandas as pd\n",
    "import numpy as np\n",
    "import random\n",
    "import seaborn as sns\n",
    "import matplotlib.pyplot as plt \n",
    "import itertools\n",
    "from pandas.plotting import scatter_matrix\n",
    "\n",
    "from sklearn.ensemble import RandomForestClassifier\n",
    "from sklearn.model_selection import train_test_split\n",
    "from sklearn.metrics import accuracy_score, f1_score, confusion_matrix, ConfusionMatrixDisplay, plot_confusion_matrix\n",
    "\n",
    "from pyspark.sql import SparkSession\n",
    "from pyspark.sql.functions import col,isnan, when, count, mean as _mean, stddev as _stddev, col\n",
    "from pyspark.sql.types import DoubleType, IntegerType\n",
    "\n",
    "from pyspark.ml import Pipeline\n",
    "from pyspark.ml.linalg import Vectors\n",
    "from pyspark.ml.stat import Correlation\n",
    "from pyspark.ml.feature import VectorAssembler, VectorIndexer, IndexToString, StringIndexer\n",
    "from pyspark.ml.evaluation import MulticlassClassificationEvaluator\n",
    "from pyspark.ml.classification import LogisticRegression, DecisionTreeClassifier\n",
    "from pyspark.ml.tuning import CrossValidator, ParamGridBuilder\n"
   ]
  },
  {
   "cell_type": "code",
   "execution_count": 28,
   "metadata": {},
   "outputs": [],
   "source": [
    "spark = SparkSession.builder \\\n",
    "                .appName('TestMinadzb') \\\n",
    "                .config(\"spark.driver.bindAddress\", \"127.0.0.1\") \\\n",
    "                .getOrCreate()"
   ]
  },
  {
   "cell_type": "code",
   "execution_count": 29,
   "metadata": {},
   "outputs": [],
   "source": [
    "csv = spark.read.format(\"csv\").option(\"header\",\"true\").load(\"dataset.csv\")"
   ]
  },
  {
   "cell_type": "code",
   "execution_count": 30,
   "metadata": {},
   "outputs": [
    {
     "data": {
      "text/plain": [
       "Row(url='https://bj.lianjia.com/chengjiao/101084782030.html', id='101084782030', Lng='116.475489', Lat='40.01952', Cid='1111027376244', tradeTime='2016-08-09', DOM='1464', followers='106', totalPrice='415.0', price='31680', square='131.0', livingRoom='2', drawingRoom='1', kitchen='1', bathRoom='1', floor='�� 26', buildingType='1', constructionTime='2005', renovationCondition='3', buildingStructure='6', ladderRatio='0.217', elevator='1.0', fiveYearsProperty='0.0', subway='1.0', district='7', communityAverage='56021')"
      ]
     },
     "execution_count": 30,
     "metadata": {},
     "output_type": "execute_result"
    }
   ],
   "source": [
    "csv.head()"
   ]
  },
  {
   "cell_type": "code",
   "execution_count": 31,
   "metadata": {},
   "outputs": [
    {
     "name": "stderr",
     "output_type": "stream",
     "text": [
      "[Stage 171:=====================>                                   (3 + 5) / 8]\r"
     ]
    },
    {
     "name": "stdout",
     "output_type": "stream",
     "text": [
      "+---+---+---+---+---+---------+------+---------+----------+-----+------+----------+-----------+-------+--------+-----+------------+----------------+-------------------+-----------------+-----------+--------+-----------------+------+--------+----------------+\n",
      "|url| id|Lng|Lat|Cid|tradeTime|   DOM|followers|totalPrice|price|square|livingRoom|drawingRoom|kitchen|bathRoom|floor|buildingType|constructionTime|renovationCondition|buildingStructure|ladderRatio|elevator|fiveYearsProperty|subway|district|communityAverage|\n",
      "+---+---+---+---+---+---------+------+---------+----------+-----+------+----------+-----------+-------+--------+-----+------------+----------------+-------------------+-----------------+-----------+--------+-----------------+------+--------+----------------+\n",
      "|  0|  0|  0|  0|  0|        0|157977|        0|         0|    0|     0|         0|          0|      0|       0|    0|        2021|               0|                  0|                0|          0|      32|               32|    32|       0|             463|\n",
      "+---+---+---+---+---+---------+------+---------+----------+-----+------+----------+-----------+-------+--------+-----+------------+----------------+-------------------+-----------------+-----------+--------+-----------------+------+--------+----------------+\n",
      "\n"
     ]
    },
    {
     "name": "stderr",
     "output_type": "stream",
     "text": [
      "\r",
      "                                                                                \r"
     ]
    }
   ],
   "source": [
    "csv.select([count(when(isnan(c) | col(c).isNull(), c)).alias(c) for c in csv.columns]\n",
    "   ).show()"
   ]
  },
  {
   "cell_type": "code",
   "execution_count": 32,
   "metadata": {},
   "outputs": [],
   "source": [
    "csv = csv.drop('url')\n",
    "csv = csv.drop('cid')\n",
    "csv = csv.drop('id')\n",
    "csv = csv.drop('Lng')\n",
    "csv = csv.drop('Lat')\n",
    "csv = csv.drop('DOM')\n",
    "csv = csv.drop('tradeTime')\n",
    "csv = csv.drop('price')\n",
    "csv = csv.drop('floor') #(chinese characters)\n",
    "csv = csv.drop('buildingType') #buildingType\n",
    "csv = csv.drop('communityAverage') #communityAverage\n",
    "csv = csv.drop('constructionTime') #constructionTime (chinese characters)"
   ]
  },
  {
   "cell_type": "code",
   "execution_count": 33,
   "metadata": {},
   "outputs": [],
   "source": [
    "csv = csv.dropna()"
   ]
  },
  {
   "cell_type": "code",
   "execution_count": 34,
   "metadata": {},
   "outputs": [
    {
     "name": "stderr",
     "output_type": "stream",
     "text": [
      "                                                                                \r"
     ]
    },
    {
     "data": {
      "text/plain": [
       "DataFrame[summary: string, followers: string, totalPrice: string, square: string, livingRoom: string, drawingRoom: string, kitchen: string, bathRoom: string, renovationCondition: string, buildingStructure: string, ladderRatio: string, elevator: string, fiveYearsProperty: string, subway: string, district: string]"
      ]
     },
     "execution_count": 34,
     "metadata": {},
     "output_type": "execute_result"
    }
   ],
   "source": [
    "csv.describe()"
   ]
  },
  {
   "cell_type": "code",
   "execution_count": 35,
   "metadata": {
    "scrolled": false
   },
   "outputs": [
    {
     "name": "stdout",
     "output_type": "stream",
     "text": [
      "root\n",
      " |-- followers: string (nullable = true)\n",
      " |-- totalPrice: string (nullable = true)\n",
      " |-- square: string (nullable = true)\n",
      " |-- livingRoom: string (nullable = true)\n",
      " |-- drawingRoom: string (nullable = true)\n",
      " |-- kitchen: string (nullable = true)\n",
      " |-- bathRoom: string (nullable = true)\n",
      " |-- renovationCondition: string (nullable = true)\n",
      " |-- buildingStructure: string (nullable = true)\n",
      " |-- ladderRatio: string (nullable = true)\n",
      " |-- elevator: string (nullable = true)\n",
      " |-- fiveYearsProperty: string (nullable = true)\n",
      " |-- subway: string (nullable = true)\n",
      " |-- district: string (nullable = true)\n",
      "\n"
     ]
    }
   ],
   "source": [
    "csv.printSchema()"
   ]
  },
  {
   "cell_type": "code",
   "execution_count": 36,
   "metadata": {},
   "outputs": [
    {
     "name": "stdout",
     "output_type": "stream",
     "text": [
      "+---------+----------+------+----------+-----------+-------+--------+-------------------+-----------------+-----------+--------+-----------------+------+--------+\n",
      "|followers|totalPrice|square|livingRoom|drawingRoom|kitchen|bathRoom|renovationCondition|buildingStructure|ladderRatio|elevator|fiveYearsProperty|subway|district|\n",
      "+---------+----------+------+----------+-----------+-------+--------+-------------------+-----------------+-----------+--------+-----------------+------+--------+\n",
      "|      106|     415.0| 131.0|         2|          1|      1|       1|                  3|                6|      0.217|     1.0|              0.0|   1.0|       7|\n",
      "|      126|     575.0|132.38|         2|          2|      1|       2|                  4|                6|      0.667|     1.0|              1.0|   0.0|       7|\n",
      "|       48|    1030.0| 198.0|         3|          2|      1|       3|                  3|                6|        0.5|     1.0|              0.0|   0.0|       7|\n",
      "|      138|     297.5| 134.0|         3|          1|      1|       1|                  1|                6|      0.273|     1.0|              0.0|   0.0|       6|\n",
      "|      286|     392.0|  81.0|         2|          1|      1|       1|                  2|                2|      0.333|     0.0|              1.0|   1.0|       1|\n",
      "|       57|     275.6|  53.0|         1|          0|      1|       1|                  3|                6|      0.333|     1.0|              1.0|   0.0|       7|\n",
      "|      167|     275.0|  73.0|         2|          1|      1|       1|                  4|                2|        0.5|     0.0|              0.0|   0.0|       7|\n",
      "|      138|     800.0|161.55|         3|          2|      1|       2|                  4|                6|      0.667|     1.0|              1.0|   0.0|       7|\n",
      "|      218|     134.0|  48.0|         1|          0|      1|       1|                  1|                2|      0.333|     0.0|              0.0|   0.0|      13|\n",
      "|      134|     380.0|  68.0|         1|          0|      0|       0|                  4|                6|      0.308|     1.0|              1.0|   1.0|       1|\n",
      "|       95|     840.0| 266.0|         4|          2|      1|       3|                  3|                6|        0.2|     0.0|              0.0|   0.0|       7|\n",
      "|       74|     126.0|  48.0|         1|          1|      1|       1|                  3|                2|      0.333|     0.0|              1.0|   0.0|      13|\n",
      "|       50|     948.0| 238.0|         4|          2|      1|       4|                  4|                6|      0.091|     0.0|              1.0|   0.0|       7|\n",
      "|       65|     896.0|  97.7|         3|          1|      1|       1|                  3|                2|      0.333|     0.0|              1.0|   1.0|      10|\n",
      "|       90|     285.0| 80.13|         1|          1|      1|       1|                  4|                6|      0.222|     1.0|              0.0|   1.0|       2|\n",
      "|       76|     360.0|  59.4|         2|          1|      1|       1|                  3|                6|       0.25|     1.0|              0.0|   1.0|       2|\n",
      "|       39|     700.0|178.96|         4|          1|      1|       1|                  3|                6|      0.333|     1.0|              1.0|   1.0|       7|\n",
      "|        6|     212.0| 64.28|         1|          0|      1|       1|                  3|                6|      0.111|     1.0|              0.0|   1.0|       8|\n",
      "|      130|     336.0| 111.3|         2|          1|      1|       1|                  4|                6|      0.167|     1.0|              1.0|   0.0|       7|\n",
      "|       41|     174.6|  52.0|         1|          0|      1|       1|                  3|                6|      0.111|     1.0|              0.0|   1.0|       8|\n",
      "+---------+----------+------+----------+-----------+-------+--------+-------------------+-----------------+-----------+--------+-----------------+------+--------+\n",
      "only showing top 20 rows\n",
      "\n"
     ]
    }
   ],
   "source": [
    "csv.show()"
   ]
  },
  {
   "cell_type": "code",
   "execution_count": 37,
   "metadata": {},
   "outputs": [],
   "source": [
    "\n",
    "\n",
    "to_int = ['followers', 'livingRoom', 'drawingRoom', 'kitchen',\n",
    "          'bathRoom', 'renovationCondition', 'buildingStructure', \n",
    "          'elevator', 'fiveYearsProperty', 'subway', 'district']\n",
    "to_double = ['square', 'ladderRatio', 'totalPrice']\n",
    "\n",
    "for i in to_int:\n",
    "    csv = csv.withColumn(i,col(i).cast(IntegerType()))\n",
    "    #csv = csv.select(col(i).cast('int').alias(i))\n",
    "    \n",
    "for i in to_double:\n",
    "    csv = csv.withColumn(i,col(i).cast(DoubleType()))\n",
    "    #csv = csv.select(col(i).cast('double').alias(i))"
   ]
  },
  {
   "cell_type": "code",
   "execution_count": 38,
   "metadata": {},
   "outputs": [
    {
     "data": {
      "text/plain": [
       "349.0515326878279"
      ]
     },
     "execution_count": 38,
     "metadata": {},
     "output_type": "execute_result"
    }
   ],
   "source": [
    "#do kategoryzacji podzial ceny na duze i male\n",
    "df_stats = csv.select(\n",
    "    _mean(col('totalPrice')).alias('mean'),\n",
    "    _stddev(col('totalPrice')).alias('std')\n",
    ").collect()\n",
    "\n",
    "mean = df_stats[0]['mean']\n",
    "std = df_stats[0]['std']\n",
    "mean"
   ]
  },
  {
   "cell_type": "code",
   "execution_count": 39,
   "metadata": {},
   "outputs": [
    {
     "name": "stdout",
     "output_type": "stream",
     "text": [
      "+---------+----------+------+----------+-----------+-------+--------+-------------------+-----------------+-----------+--------+-----------------+------+--------+\n",
      "|followers|totalPrice|square|livingRoom|drawingRoom|kitchen|bathRoom|renovationCondition|buildingStructure|ladderRatio|elevator|fiveYearsProperty|subway|district|\n",
      "+---------+----------+------+----------+-----------+-------+--------+-------------------+-----------------+-----------+--------+-----------------+------+--------+\n",
      "|106      |1         |131.0 |2         |1          |1      |1       |3                  |6                |0.217      |1       |0                |1     |7       |\n",
      "|126      |1         |132.38|2         |2          |1      |2       |4                  |6                |0.667      |1       |1                |0     |7       |\n",
      "|48       |1         |198.0 |3         |2          |1      |3       |3                  |6                |0.5        |1       |0                |0     |7       |\n",
      "|138      |0         |134.0 |3         |1          |1      |1       |1                  |6                |0.273      |1       |0                |0     |6       |\n",
      "|286      |1         |81.0  |2         |1          |1      |1       |2                  |2                |0.333      |0       |1                |1     |1       |\n",
      "|57       |0         |53.0  |1         |0          |1      |1       |3                  |6                |0.333      |1       |1                |0     |7       |\n",
      "|167      |0         |73.0  |2         |1          |1      |1       |4                  |2                |0.5        |0       |0                |0     |7       |\n",
      "|138      |1         |161.55|3         |2          |1      |2       |4                  |6                |0.667      |1       |1                |0     |7       |\n",
      "|218      |0         |48.0  |1         |0          |1      |1       |1                  |2                |0.333      |0       |0                |0     |13      |\n",
      "|134      |1         |68.0  |1         |0          |0      |0       |4                  |6                |0.308      |1       |1                |1     |1       |\n",
      "|95       |1         |266.0 |4         |2          |1      |3       |3                  |6                |0.2        |0       |0                |0     |7       |\n",
      "|74       |0         |48.0  |1         |1          |1      |1       |3                  |2                |0.333      |0       |1                |0     |13      |\n",
      "|50       |1         |238.0 |4         |2          |1      |4       |4                  |6                |0.091      |0       |1                |0     |7       |\n",
      "|65       |1         |97.7  |3         |1          |1      |1       |3                  |2                |0.333      |0       |1                |1     |10      |\n",
      "|90       |0         |80.13 |1         |1          |1      |1       |4                  |6                |0.222      |1       |0                |1     |2       |\n",
      "+---------+----------+------+----------+-----------+-------+--------+-------------------+-----------------+-----------+--------+-----------------+------+--------+\n",
      "only showing top 15 rows\n",
      "\n"
     ]
    }
   ],
   "source": [
    "#do kategoryzacji podzial ceny na duze i male\n",
    "csv2 = csv.withColumn(\"totalPrice\", when(csv.totalPrice >= 350,1) \n",
    "#                                     .when(csv.totalPrice >= 500,2) \n",
    "#                                     .when(csv.totalPrice >= 350,1) \n",
    "                                    .otherwise(0))\n",
    "csv2.show(15,False)"
   ]
  },
  {
   "cell_type": "code",
   "execution_count": 40,
   "metadata": {
    "scrolled": true
   },
   "outputs": [
    {
     "name": "stderr",
     "output_type": "stream",
     "text": [
      "/usr/lib/python3.9/site-packages/pyspark/sql/context.py:125: FutureWarning: Deprecated in 3.0.0. Use SparkSession.builder.getOrCreate() instead.\n",
      "  warnings.warn(\n"
     ]
    },
    {
     "data": {
      "text/plain": [
       "array([ 1.00000000e+00,  1.52645902e-01, -5.08269143e-02, -6.57602064e-03,\n",
       "       -5.39928849e-02,  9.10016082e-03, -3.42559962e-02,  2.41063004e-01,\n",
       "       -2.27037778e-02, -2.00301910e-04, -2.07609856e-02,  4.96317807e-02,\n",
       "        1.82434638e-02, -3.24042027e-02,  1.52645902e-01,  1.00000000e+00,\n",
       "        5.75844775e-01,  4.34312367e-01,  3.22706262e-01,  8.64251458e-02,\n",
       "        4.42432735e-01,  2.50776646e-01,  1.87961612e-01, -1.06371667e-03,\n",
       "        1.92344785e-01, -3.22497345e-03,  1.13183328e-01,  1.03828020e-02,\n",
       "       -5.08269143e-02,  5.75844775e-01,  1.00000000e+00,  7.22672921e-01,\n",
       "        6.16364488e-01,  9.11690035e-02,  7.38126734e-01,  3.14778680e-02,\n",
       "        1.56220097e-01, -2.42038252e-03,  1.68130705e-01, -1.81643868e-02,\n",
       "       -9.49727894e-02, -7.33993010e-03, -6.57602064e-03,  4.34312367e-01,\n",
       "        7.22672921e-01,  1.00000000e+00,  4.89589466e-01,  1.00451606e-01,\n",
       "        5.52904210e-01,  1.02750923e-02, -6.47624454e-02, -3.25542094e-03,\n",
       "       -7.82711917e-02,  4.57738456e-02, -6.28763322e-02,  1.23822731e-02,\n",
       "       -5.39928849e-02,  3.22706262e-01,  6.16364488e-01,  4.89589466e-01,\n",
       "        1.00000000e+00,  1.31910762e-01,  5.25765564e-01, -8.37440070e-03,\n",
       "        5.37629696e-02, -8.22427951e-04,  4.44828370e-02,  7.58933541e-03,\n",
       "       -9.36942298e-02,  1.02296968e-02,  9.10016082e-03,  8.64251458e-02,\n",
       "        9.11690035e-02,  1.00451606e-01,  1.31910762e-01,  1.00000000e+00,\n",
       "        1.17100940e-01, -5.36319883e-03, -5.50140942e-03,  1.33867526e-04,\n",
       "       -5.16697856e-03,  4.57787208e-02,  1.06174421e-02, -3.72259586e-02,\n",
       "       -3.42559962e-02,  4.42432735e-01,  7.38126734e-01,  5.52904210e-01,\n",
       "        5.25765564e-01,  1.17100940e-01,  1.00000000e+00,  2.55113538e-02,\n",
       "        1.14457225e-01, -1.07503948e-03,  1.14110953e-01, -3.15505989e-02,\n",
       "       -6.40033678e-02, -1.87085282e-03,  2.41063004e-01,  2.50776646e-01,\n",
       "        3.14778680e-02,  1.02750923e-02, -8.37440070e-03, -5.36319883e-03,\n",
       "        2.55113538e-02,  1.00000000e+00,  4.74299461e-02, -2.03442596e-04,\n",
       "        5.14384374e-02,  1.21005704e-01,  4.68217057e-03, -9.67410415e-03,\n",
       "       -2.27037778e-02,  1.87961612e-01,  1.56220097e-01, -6.47624454e-02,\n",
       "        5.37629696e-02, -5.50140942e-03,  1.14457225e-01,  4.74299461e-02,\n",
       "        1.00000000e+00,  2.03891023e-03,  8.12426453e-01, -1.22217915e-01,\n",
       "        9.22259344e-02, -1.00106881e-01, -2.00301910e-04, -1.06371667e-03,\n",
       "       -2.42038252e-03, -3.25542094e-03, -8.22427951e-04,  1.33867526e-04,\n",
       "       -1.07503948e-03, -2.03442596e-04,  2.03891023e-03,  1.00000000e+00,\n",
       "        2.14318852e-03, -7.62587619e-04, -3.07541290e-03,  2.10835346e-04,\n",
       "       -2.07609856e-02,  1.92344785e-01,  1.68130705e-01, -7.82711917e-02,\n",
       "        4.44828370e-02, -5.16697856e-03,  1.14110953e-01,  5.14384374e-02,\n",
       "        8.12426453e-01,  2.14318852e-03,  1.00000000e+00, -1.19514485e-01,\n",
       "        1.06369198e-01, -6.40900366e-02,  4.96317807e-02, -3.22497345e-03,\n",
       "       -1.81643868e-02,  4.57738456e-02,  7.58933541e-03,  4.57787208e-02,\n",
       "       -3.15505989e-02,  1.21005704e-01, -1.22217915e-01, -7.62587619e-04,\n",
       "       -1.19514485e-01,  1.00000000e+00,  6.11592401e-02,  1.19206106e-02,\n",
       "        1.82434638e-02,  1.13183328e-01, -9.49727894e-02, -6.28763322e-02,\n",
       "       -9.36942298e-02,  1.06174421e-02, -6.40033678e-02,  4.68217057e-03,\n",
       "        9.22259344e-02, -3.07541290e-03,  1.06369198e-01,  6.11592401e-02,\n",
       "        1.00000000e+00, -1.09812931e-01, -3.24042027e-02,  1.03828020e-02,\n",
       "       -7.33993010e-03,  1.23822731e-02,  1.02296968e-02, -3.72259586e-02,\n",
       "       -1.87085282e-03, -9.67410415e-03, -1.00106881e-01,  2.10835346e-04,\n",
       "       -6.40900366e-02,  1.19206106e-02, -1.09812931e-01,  1.00000000e+00])"
      ]
     },
     "execution_count": 40,
     "metadata": {},
     "output_type": "execute_result"
    }
   ],
   "source": [
    "# convert to vector column first\n",
    "vector_col = \"corr_features\"\n",
    "assembler = VectorAssembler(inputCols=csv.columns, outputCol=vector_col)\n",
    "df_vector = assembler.transform(csv).select(vector_col)\n",
    "\n",
    "# get correlation matrix\n",
    "corr = Correlation.corr(df_vector, vector_col)\n",
    "# corr.style.background_gradient(cmap='coolwarm')\n",
    "# cor_np = corr.collect()[0][corr.columns[0]].toArray()\n",
    "# print(str(corr).replace('nan', 'NaN'))\n",
    "corr.collect()[0][\"pearson({})\".format(vector_col)].values"
   ]
  },
  {
   "cell_type": "markdown",
   "metadata": {},
   "source": [
    "# Klasyfikacja"
   ]
  },
  {
   "cell_type": "markdown",
   "metadata": {},
   "source": [
    "# przygotowanie danych"
   ]
  },
  {
   "cell_type": "code",
   "execution_count": 41,
   "metadata": {},
   "outputs": [],
   "source": [
    "def get_dummy(df,categoricalCols,continuousCols,labelCol):\n",
    "\n",
    "    from pyspark.ml import Pipeline\n",
    "    from pyspark.ml.feature import StringIndexer, OneHotEncoder, VectorAssembler\n",
    "    from pyspark.sql.functions import col\n",
    "\n",
    "    indexers = [ StringIndexer(inputCol=c, outputCol=\"{0}_indexed\".format(c))\n",
    "                 for c in categoricalCols ]\n",
    "\n",
    "    # default setting: dropLast=True\n",
    "    encoders = [ OneHotEncoder(inputCol=indexer.getOutputCol(),\n",
    "                 outputCol=\"{0}_encoded\".format(indexer.getOutputCol()))\n",
    "                 for indexer in indexers ]\n",
    "\n",
    "    assembler = VectorAssembler(inputCols=[encoder.getOutputCol() for encoder in encoders]\n",
    "                                + continuousCols, outputCol=\"features\")\n",
    "\n",
    "    pipeline = Pipeline(stages=indexers + encoders + [assembler])\n",
    "\n",
    "    model=pipeline.fit(df)\n",
    "    data = model.transform(df)\n",
    "\n",
    "    data = data.withColumn('label',col(labelCol))\n",
    "\n",
    "    return data.select('features','label')"
   ]
  },
  {
   "cell_type": "code",
   "execution_count": 42,
   "metadata": {},
   "outputs": [
    {
     "name": "stdout",
     "output_type": "stream",
     "text": [
      "+--------------------+-----+\n",
      "|            features|label|\n",
      "+--------------------+-----+\n",
      "|[0.0,0.0,1.0,1.0,...|    1|\n",
      "|[0.0,1.0,0.0,1.0,...|    1|\n",
      "|(19,[2,3,8,11,12,...|    1|\n",
      "|(19,[0,3,8,11,12,...|    0|\n",
      "|(19,[4,9,10,11,12...|    1|\n",
      "+--------------------+-----+\n",
      "only showing top 5 rows\n",
      "\n"
     ]
    }
   ],
   "source": [
    "#do zriobienia dla danych kategorycznych\n",
    "catcols = ['renovationCondition','buildingStructure','elevator','fiveYearsProperty',\n",
    "           'subway']\n",
    "\n",
    "num_cols = ['followers','square','livingRoom','drawingRoom','kitchen','bathRoom','ladderRatio','district']\n",
    "labelCol = 'totalPrice'\n",
    "\n",
    "data = get_dummy(csv2,catcols,num_cols,labelCol)\n",
    "data.show(5)"
   ]
  },
  {
   "cell_type": "code",
   "execution_count": 43,
   "metadata": {},
   "outputs": [
    {
     "name": "stdout",
     "output_type": "stream",
     "text": [
      "+--------------------+-----+------------+\n",
      "|            features|label|indexedLabel|\n",
      "+--------------------+-----+------------+\n",
      "|[0.0,0.0,1.0,1.0,...|    1|         1.0|\n",
      "|[0.0,1.0,0.0,1.0,...|    1|         1.0|\n",
      "|(19,[2,3,8,11,12,...|    1|         1.0|\n",
      "|(19,[0,3,8,11,12,...|    0|         0.0|\n",
      "|(19,[4,9,10,11,12...|    1|         1.0|\n",
      "+--------------------+-----+------------+\n",
      "only showing top 5 rows\n",
      "\n"
     ]
    }
   ],
   "source": [
    "\n",
    "# Index labels, adding metadata to the label column\n",
    "labelIndexer = StringIndexer(inputCol='label',\n",
    "                             outputCol='indexedLabel').fit(data)\n",
    "labelIndexer.transform(data).show(5, True)"
   ]
  },
  {
   "cell_type": "code",
   "execution_count": 44,
   "metadata": {},
   "outputs": [
    {
     "name": "stderr",
     "output_type": "stream",
     "text": [
      "[Stage 208:=======>                                                 (1 + 7) / 8]\r"
     ]
    },
    {
     "name": "stdout",
     "output_type": "stream",
     "text": [
      "+--------------------+-----+--------------------+\n",
      "|            features|label|     indexedFeatures|\n",
      "+--------------------+-----+--------------------+\n",
      "|[0.0,0.0,1.0,1.0,...|    1|[0.0,0.0,1.0,1.0,...|\n",
      "|[0.0,1.0,0.0,1.0,...|    1|[0.0,1.0,0.0,1.0,...|\n",
      "|(19,[2,3,8,11,12,...|    1|(19,[2,3,8,11,12,...|\n",
      "|(19,[0,3,8,11,12,...|    0|(19,[0,3,8,11,12,...|\n",
      "|(19,[4,9,10,11,12...|    1|(19,[4,9,10,11,12...|\n",
      "|(19,[2,3,8,9,11,1...|    0|(19,[2,3,8,9,11,1...|\n",
      "+--------------------+-----+--------------------+\n",
      "only showing top 6 rows\n",
      "\n"
     ]
    },
    {
     "name": "stderr",
     "output_type": "stream",
     "text": [
      "\r",
      "[Stage 208:=================================================>       (7 + 1) / 8]\r",
      "\r",
      "                                                                                \r"
     ]
    }
   ],
   "source": [
    "# Automatically identify categorical features, and index them.\n",
    "# Set maxCategories so features with > 6 distinct values are treated as continuous.\n",
    "featureIndexer =VectorIndexer(inputCol=\"features\", \\\n",
    "                                  outputCol=\"indexedFeatures\", \\\n",
    "                                  maxCategories=5).fit(data)\n",
    "featureIndexer.transform(data).show(6, True)"
   ]
  },
  {
   "cell_type": "code",
   "execution_count": 45,
   "metadata": {},
   "outputs": [
    {
     "name": "stderr",
     "output_type": "stream",
     "text": [
      "                                                                                \r"
     ]
    },
    {
     "name": "stdout",
     "output_type": "stream",
     "text": [
      "+---------------------------------------------------------------------------------------+-----+\n",
      "|features                                                                               |label|\n",
      "+---------------------------------------------------------------------------------------+-----+\n",
      "|(19,[0,3,8,9,10,11,12,13,16,17,18],[1.0,1.0,1.0,1.0,1.0,71.0,37.0,1.0,1.0,0.047,7.0])  |0    |\n",
      "|(19,[0,3,8,9,11,12,13,15,16,17,18],[1.0,1.0,1.0,1.0,10.0,49.0,1.0,1.0,1.0,0.5,6.0])    |0    |\n",
      "|(19,[0,3,8,9,11,12,13,15,16,17,18],[1.0,1.0,1.0,1.0,18.0,43.98,1.0,1.0,1.0,0.25,10.0]) |0    |\n",
      "|(19,[0,3,8,9,11,12,13,15,16,17,18],[1.0,1.0,1.0,1.0,29.0,47.33,1.0,1.0,1.0,0.25,2.0])  |0    |\n",
      "|(19,[0,3,8,9,11,12,13,15,16,17,18],[1.0,1.0,1.0,1.0,44.0,40.42,1.0,1.0,1.0,0.222,10.0])|0    |\n",
      "+---------------------------------------------------------------------------------------+-----+\n",
      "only showing top 5 rows\n",
      "\n"
     ]
    },
    {
     "name": "stderr",
     "output_type": "stream",
     "text": [
      "\r",
      "[Stage 212:>                                                        (0 + 1) / 1]\r"
     ]
    },
    {
     "name": "stdout",
     "output_type": "stream",
     "text": [
      "+-------------------------------------------------------------------------------------+-----+\n",
      "|features                                                                             |label|\n",
      "+-------------------------------------------------------------------------------------+-----+\n",
      "|(19,[0,3,8,9,11,12,13,15,16,17,18],[1.0,1.0,1.0,1.0,1.0,56.0,1.0,1.0,1.0,0.125,7.0]) |0    |\n",
      "|(19,[0,3,8,9,11,12,13,15,16,17,18],[1.0,1.0,1.0,1.0,3.0,56.22,1.0,1.0,1.0,0.273,2.0])|0    |\n",
      "|(19,[0,3,8,9,11,12,13,15,16,17,18],[1.0,1.0,1.0,1.0,5.0,46.4,1.0,1.0,1.0,0.25,8.0])  |1    |\n",
      "|(19,[0,3,8,9,11,12,13,15,16,17,18],[1.0,1.0,1.0,1.0,17.0,39.4,1.0,1.0,1.0,0.167,7.0])|0    |\n",
      "|(19,[0,3,8,9,11,12,13,15,16,17,18],[1.0,1.0,1.0,1.0,18.0,50.0,1.0,1.0,1.0,0.667,9.0])|0    |\n",
      "+-------------------------------------------------------------------------------------+-----+\n",
      "only showing top 5 rows\n",
      "\n"
     ]
    },
    {
     "name": "stderr",
     "output_type": "stream",
     "text": [
      "\r",
      "                                                                                \r"
     ]
    }
   ],
   "source": [
    "# Split the data into training and test sets (40% held out for testing)\n",
    "(trainingData, testData) = data.randomSplit([0.6, 0.4])\n",
    "\n",
    "trainingData.show(5,False)\n",
    "testData.show(5,False)"
   ]
  },
  {
   "cell_type": "markdown",
   "metadata": {},
   "source": [
    "# Regresja Logistyczna"
   ]
  },
  {
   "cell_type": "code",
   "execution_count": 46,
   "metadata": {},
   "outputs": [
    {
     "name": "stderr",
     "output_type": "stream",
     "text": [
      "                                                                                \r"
     ]
    }
   ],
   "source": [
    "# Logistic regression model\n",
    "logr = LogisticRegression(featuresCol='indexedFeatures', labelCol='indexedLabel')\n",
    "\n",
    "# Convert indexed labels back to original labels.\n",
    "labelConverter = IndexToString(inputCol=\"prediction\", outputCol=\"predictedLabel\",\n",
    "                               labels=labelIndexer.labels)\n",
    "\n",
    "# Chain indexers and tree in a Pipeline\n",
    "pipeline = Pipeline(stages=[labelIndexer, featureIndexer, logr,labelConverter])\n",
    "\n",
    "# Train model.  This also runs the indexers.\n",
    "model = pipeline.fit(trainingData)"
   ]
  },
  {
   "cell_type": "code",
   "execution_count": 47,
   "metadata": {},
   "outputs": [
    {
     "name": "stderr",
     "output_type": "stream",
     "text": [
      "\r",
      "[Stage 293:>                                                        (0 + 1) / 1]\r"
     ]
    },
    {
     "name": "stdout",
     "output_type": "stream",
     "text": [
      "+--------------------+-----+--------------+\n",
      "|            features|label|predictedLabel|\n",
      "+--------------------+-----+--------------+\n",
      "|(19,[0,3,8,9,11,1...|    0|             0|\n",
      "|(19,[0,3,8,9,11,1...|    0|             0|\n",
      "|(19,[0,3,8,9,11,1...|    1|             0|\n",
      "|(19,[0,3,8,9,11,1...|    0|             0|\n",
      "|(19,[0,3,8,9,11,1...|    0|             0|\n",
      "+--------------------+-----+--------------+\n",
      "only showing top 5 rows\n",
      "\n"
     ]
    },
    {
     "name": "stderr",
     "output_type": "stream",
     "text": [
      "\r",
      "                                                                                \r"
     ]
    }
   ],
   "source": [
    "# Make predictions.\n",
    "predictions = model.transform(testData)\n",
    "# Select example rows to display.\n",
    "predictions.select(\"features\",\"label\",\"predictedLabel\").show(5)"
   ]
  },
  {
   "cell_type": "code",
   "execution_count": 48,
   "metadata": {},
   "outputs": [
    {
     "name": "stderr",
     "output_type": "stream",
     "text": [
      "[Stage 294:=======>                                                 (1 + 7) / 8]\r"
     ]
    },
    {
     "name": "stdout",
     "output_type": "stream",
     "text": [
      "Test Error = 0.249783\n"
     ]
    },
    {
     "name": "stderr",
     "output_type": "stream",
     "text": [
      "\r",
      "[Stage 294:============================>                            (4 + 4) / 8]\r",
      "\r",
      "                                                                                \r"
     ]
    }
   ],
   "source": [
    "from pyspark.ml.evaluation import MulticlassClassificationEvaluator\n",
    "# Select (prediction, true label) and compute test error\n",
    "evaluator = MulticlassClassificationEvaluator(\n",
    "    labelCol=\"indexedLabel\", predictionCol=\"prediction\", metricName=\"accuracy\")\n",
    "accuracy = evaluator.evaluate(predictions)\n",
    "print(\"Test Error = %g\" % (1.0 - accuracy))"
   ]
  },
  {
   "cell_type": "code",
   "execution_count": 49,
   "metadata": {
    "scrolled": true
   },
   "outputs": [
    {
     "name": "stdout",
     "output_type": "stream",
     "text": [
      "<pyspark.ml.classification.BinaryLogisticRegressionTrainingSummary object at 0x7f53f44d4ca0>\n"
     ]
    },
    {
     "name": "stderr",
     "output_type": "stream",
     "text": [
      "                                                                                \r"
     ]
    },
    {
     "name": "stdout",
     "output_type": "stream",
     "text": [
      "+--------------------+--------------------+\n",
      "|                 FPR|                 TPR|\n",
      "+--------------------+--------------------+\n",
      "|                 0.0|                 0.0|\n",
      "|1.090165034214410...|0.002384804195023...|\n",
      "|1.761035824500201...|0.004839339506861542|\n",
      "|2.264188917214544...|0.007321767265424523|\n",
      "|3.354353951428955E-4| 0.00970657146044851|\n",
      "+--------------------+--------------------+\n",
      "only showing top 5 rows\n",
      "\n",
      "areaUnderROC: 0.8148416454357418\n"
     ]
    },
    {
     "data": {
      "text/plain": [
       "[<matplotlib.lines.Line2D at 0x7f53c422ad90>]"
      ]
     },
     "execution_count": 49,
     "metadata": {},
     "output_type": "execute_result"
    },
    {
     "data": {
      "image/png": "[encoded data removed]",
      "text/plain": [
       "<Figure size 720x720 with 1 Axes>"
      ]
     },
     "metadata": {
      "needs_background": "light"
     },
     "output_type": "display_data"
    }
   ],
   "source": [
    "lrModel = model.stages[2]\n",
    "trainingSummary = lrModel.summary\n",
    "\n",
    "print(trainingSummary)\n",
    "\n",
    "# Obtain the objective per iteration\n",
    "# objectiveHistory = trainingSummary.objectiveHistory\n",
    "# print(\"objectiveHistory:\")\n",
    "# for objective in objectiveHistory:\n",
    "#     print(objective)\n",
    "\n",
    "# Obtain the receiver-operating characteristic as a dataframe and areaUnderROC.\n",
    "trainingSummary.roc.show(5)\n",
    "print(\"areaUnderROC: \" + str(trainingSummary.areaUnderROC))\n",
    "\n",
    "# Set the model threshold to maximize F-Measure\n",
    "fMeasure = trainingSummary.fMeasureByThreshold\n",
    "maxFMeasure = fMeasure.groupBy().max('F-Measure').select('max(F-Measure)').head(5)\n",
    "# bestThreshold = fMeasure.where(fMeasure['F-Measure'] == maxFMeasure['max(F-Measure)']) \\\n",
    "#     .select('threshold').head()['threshold']\n",
    "# lr.setThreshold(bestThreshold)\n",
    "\n",
    "\n",
    "\n",
    "x = trainingSummary.roc.select(\"FPR\")\n",
    "x = x.toPandas()\n",
    "y = trainingSummary.roc.select(\"TPR\")\n",
    "y = y.toPandas()\n",
    "\n",
    "fig, ax = plt.subplots(figsize=(10,10))\n",
    "ax.set_title(\"ROC\")\n",
    "ax.set_xlabel(\"False Positive Rate\")\n",
    "ax.set_ylabel(\"True Positive Rate\")\n",
    "ax.plot(x,y)"
   ]
  },
  {
   "cell_type": "code",
   "execution_count": null,
   "metadata": {},
   "outputs": [],
   "source": []
  },
  {
   "cell_type": "code",
   "execution_count": null,
   "metadata": {},
   "outputs": [],
   "source": []
  },
  {
   "cell_type": "code",
   "execution_count": null,
   "metadata": {},
   "outputs": [],
   "source": []
  },
  {
   "cell_type": "markdown",
   "metadata": {},
   "source": [
    "# Drzewo Decyzyjne"
   ]
  },
  {
   "cell_type": "code",
   "execution_count": 53,
   "metadata": {},
   "outputs": [
    {
     "name": "stderr",
     "output_type": "stream",
     "text": [
      "                                                                                \r"
     ]
    }
   ],
   "source": [
    "# Train a DecisionTree model\n",
    "dTree = DecisionTreeClassifier(labelCol='indexedLabel', featuresCol='indexedFeatures')\n",
    "\n",
    "# Convert indexed labels back to original labels.\n",
    "labelConverter = IndexToString(inputCol=\"prediction\", outputCol=\"predictedLabel\",\n",
    "                               labels=labelIndexer.labels)\n",
    "\n",
    "# Chain indexers and tree in a Pipeline\n",
    "pipeline = Pipeline(stages=[labelIndexer, featureIndexer, dTree,labelConverter])\n",
    "\n",
    "# Train model.  This also runs the indexers.\n",
    "model = pipeline.fit(trainingData)"
   ]
  },
  {
   "cell_type": "code",
   "execution_count": 54,
   "metadata": {},
   "outputs": [
    {
     "name": "stderr",
     "output_type": "stream",
     "text": [
      "\r",
      "[Stage 348:>                                                        (0 + 1) / 1]\r"
     ]
    },
    {
     "name": "stdout",
     "output_type": "stream",
     "text": [
      "+--------------------+-----+--------------+\n",
      "|            features|label|predictedLabel|\n",
      "+--------------------+-----+--------------+\n",
      "|(19,[0,3,8,9,11,1...|    0|             0|\n",
      "|(19,[0,3,8,9,11,1...|    0|             0|\n",
      "|(19,[0,3,8,9,11,1...|    1|             0|\n",
      "|(19,[0,3,8,9,11,1...|    0|             0|\n",
      "|(19,[0,3,8,9,11,1...|    0|             1|\n",
      "+--------------------+-----+--------------+\n",
      "only showing top 5 rows\n",
      "\n"
     ]
    },
    {
     "name": "stderr",
     "output_type": "stream",
     "text": [
      "\r",
      "                                                                                \r"
     ]
    }
   ],
   "source": [
    "# Make predictions.\n",
    "predictions = model.transform(testData)\n",
    "# Select example rows to display.\n",
    "predictions.select(\"features\",\"label\",\"predictedLabel\").show(5)"
   ]
  },
  {
   "cell_type": "code",
   "execution_count": 55,
   "metadata": {},
   "outputs": [
    {
     "name": "stderr",
     "output_type": "stream",
     "text": [
      "[Stage 349:=======>                                                 (1 + 7) / 8]\r"
     ]
    },
    {
     "name": "stdout",
     "output_type": "stream",
     "text": [
      "Test Error = 0.230192\n",
      "DecisionTreeClassificationModel: uid=DecisionTreeClassifier_0c884ff25be6, depth=5, numNodes=51, numClasses=2, numFeatures=19\n"
     ]
    },
    {
     "name": "stderr",
     "output_type": "stream",
     "text": [
      "\r",
      "[Stage 349:==============>                                          (2 + 6) / 8]\r",
      "\r",
      "                                                                                \r"
     ]
    }
   ],
   "source": [
    "# Select (prediction, true label) and compute test error\n",
    "evaluator = MulticlassClassificationEvaluator(\n",
    "    labelCol=\"indexedLabel\", predictionCol=\"prediction\", metricName=\"accuracy\")\n",
    "accuracy = evaluator.evaluate(predictions)\n",
    "print(\"Test Error = %g\" % (1.0 - accuracy))\n",
    "\n",
    "rfModel = model.stages[-2]\n",
    "print(rfModel)  # summary only"
   ]
  },
  {
   "cell_type": "code",
   "execution_count": null,
   "metadata": {},
   "outputs": [],
   "source": []
  },
  {
   "cell_type": "code",
   "execution_count": null,
   "metadata": {},
   "outputs": [],
   "source": []
  },
  {
   "cell_type": "code",
   "execution_count": null,
   "metadata": {},
   "outputs": [],
   "source": []
  },
  {
   "cell_type": "code",
   "execution_count": null,
   "metadata": {},
   "outputs": [],
   "source": []
  }
 ],
 "metadata": {
  "kernelspec": {
   "display_name": "Python 3 (ipykernel)",
   "language": "python",
   "name": "python3"
  },
  "language_info": {
   "codemirror_mode": {
    "name": "ipython",
    "version": 3
   },
   "file_extension": ".py",
   "mimetype": "text/x-python",
   "name": "python",
   "nbconvert_exporter": "python",
   "pygments_lexer": "ipython3",
   "version": "3.10.5"
  }
 },
 "nbformat": 4,
 "nbformat_minor": 2
}
